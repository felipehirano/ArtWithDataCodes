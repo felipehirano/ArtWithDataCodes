{
 "metadata": {
  "name": "",
  "signature": "sha256:2ffd1a27ce5fd5ae491cc715fc2c85ac0bd31ea8a053bb337e07a09beb458b5b"
 },
 "nbformat": 3,
 "nbformat_minor": 0,
 "worksheets": [
  {
   "cells": [
    {
     "cell_type": "markdown",
     "metadata": {},
     "source": [
      "# **How severe weather events are harmful to population health**"
     ]
    },
    {
     "cell_type": "markdown",
     "metadata": {},
     "source": [
      "## ** Leandro Guerra - @leandro_war**"
     ]
    },
    {
     "cell_type": "markdown",
     "metadata": {},
     "source": [
      "*** www.artedosdados.com.br ***"
     ]
    },
    {
     "cell_type": "markdown",
     "metadata": {},
     "source": [
      "**Resumo** - O objetivo deste relat\u00f3rio \u00e9 apresentar a biblioteca *** pandas *** como ferramenta para an\u00e1lise de dados. Ser\u00e1 reproduzido o estudo dispon\u00edvel em http://rpubs.com/leandro_guerra/Storm_Database_Study, que foi inicialmente constru\u00eddo em R. O objetivo n\u00e3o \u00e9 comparar as duas linguagens, mas sim introduzir o conceito de dataframes dentro do Python. Tamb\u00e9m n\u00e3o pensamos em otimiza\u00e7\u00e3o de c\u00f3digo, visto que os conceitos b\u00e1sicos devem ser entendidos antes de pensar em uma solu\u00e7\u00e3o mais efetiva."
     ]
    },
    {
     "cell_type": "markdown",
     "metadata": {},
     "source": [
      "# **Processamento dos Dados**"
     ]
    },
    {
     "cell_type": "code",
     "collapsed": false,
     "input": [
      "#Importando as bibliotecas necess\u00e1rias para an\u00e1lise\n",
      "import pandas as pd\n",
      "import io\n",
      "import urllib2\n",
      "import bz2"
     ],
     "language": "python",
     "metadata": {},
     "outputs": [],
     "prompt_number": 2
    },
    {
     "cell_type": "code",
     "collapsed": false,
     "input": [
      "#Abrindo a URL e descompactando o arquivo .bz2 \n",
      "url = \"https://d396qusza40orc.cloudfront.net/repdata%2Fdata%2FStormData.csv.bz2\"\n",
      "raw_bz2 = urllib2.urlopen(url).read()\n",
      "data = bz2.decompress(raw_bz2)\n",
      "df = pd.read_csv(io.BytesIO(data))\n",
      "df.head()"
     ],
     "language": "python",
     "metadata": {},
     "outputs": [
      {
       "html": [
        "<pre>\n",
        "&lt;class 'pandas.core.frame.DataFrame'&gt;\n",
        "Int64Index: 5 entries, 0 to 4\n",
        "Data columns (total 37 columns):\n",
        "STATE__       5  non-null values\n",
        "BGN_DATE      5  non-null values\n",
        "BGN_TIME      5  non-null values\n",
        "TIME_ZONE     5  non-null values\n",
        "COUNTY        5  non-null values\n",
        "COUNTYNAME    5  non-null values\n",
        "STATE         5  non-null values\n",
        "EVTYPE        5  non-null values\n",
        "BGN_RANGE     5  non-null values\n",
        "BGN_AZI       0  non-null values\n",
        "BGN_LOCATI    0  non-null values\n",
        "END_DATE      0  non-null values\n",
        "END_TIME      0  non-null values\n",
        "COUNTY_END    5  non-null values\n",
        "COUNTYENDN    0  non-null values\n",
        "END_RANGE     5  non-null values\n",
        "END_AZI       0  non-null values\n",
        "END_LOCATI    0  non-null values\n",
        "LENGTH        5  non-null values\n",
        "WIDTH         5  non-null values\n",
        "F             5  non-null values\n",
        "MAG           5  non-null values\n",
        "FATALITIES    5  non-null values\n",
        "INJURIES      5  non-null values\n",
        "PROPDMG       5  non-null values\n",
        "PROPDMGEXP    5  non-null values\n",
        "CROPDMG       5  non-null values\n",
        "CROPDMGEXP    0  non-null values\n",
        "WFO           0  non-null values\n",
        "STATEOFFIC    0  non-null values\n",
        "ZONENAMES     0  non-null values\n",
        "LATITUDE      5  non-null values\n",
        "LONGITUDE     5  non-null values\n",
        "LATITUDE_E    5  non-null values\n",
        "LONGITUDE_    5  non-null values\n",
        "REMARKS       0  non-null values\n",
        "REFNUM        5  non-null values\n",
        "dtypes: float64(19), object(18)\n",
        "</pre>"
       ],
       "metadata": {},
       "output_type": "pyout",
       "prompt_number": 3,
       "text": [
        "<class 'pandas.core.frame.DataFrame'>\n",
        "Int64Index: 5 entries, 0 to 4\n",
        "Data columns (total 37 columns):\n",
        "STATE__       5  non-null values\n",
        "BGN_DATE      5  non-null values\n",
        "BGN_TIME      5  non-null values\n",
        "TIME_ZONE     5  non-null values\n",
        "COUNTY        5  non-null values\n",
        "COUNTYNAME    5  non-null values\n",
        "STATE         5  non-null values\n",
        "EVTYPE        5  non-null values\n",
        "BGN_RANGE     5  non-null values\n",
        "BGN_AZI       0  non-null values\n",
        "BGN_LOCATI    0  non-null values\n",
        "END_DATE      0  non-null values\n",
        "END_TIME      0  non-null values\n",
        "COUNTY_END    5  non-null values\n",
        "COUNTYENDN    0  non-null values\n",
        "END_RANGE     5  non-null values\n",
        "END_AZI       0  non-null values\n",
        "END_LOCATI    0  non-null values\n",
        "LENGTH        5  non-null values\n",
        "WIDTH         5  non-null values\n",
        "F             5  non-null values\n",
        "MAG           5  non-null values\n",
        "FATALITIES    5  non-null values\n",
        "INJURIES      5  non-null values\n",
        "PROPDMG       5  non-null values\n",
        "PROPDMGEXP    5  non-null values\n",
        "CROPDMG       5  non-null values\n",
        "CROPDMGEXP    0  non-null values\n",
        "WFO           0  non-null values\n",
        "STATEOFFIC    0  non-null values\n",
        "ZONENAMES     0  non-null values\n",
        "LATITUDE      5  non-null values\n",
        "LONGITUDE     5  non-null values\n",
        "LATITUDE_E    5  non-null values\n",
        "LONGITUDE_    5  non-null values\n",
        "REMARKS       0  non-null values\n",
        "REFNUM        5  non-null values\n",
        "dtypes: float64(19), object(18)"
       ]
      }
     ],
     "prompt_number": 3
    },
    {
     "cell_type": "code",
     "collapsed": false,
     "input": [
      "#Selecionando apenas os atributos mais relevantes"
     ],
     "language": "python",
     "metadata": {},
     "outputs": [],
     "prompt_number": 4
    },
    {
     "cell_type": "code",
     "collapsed": false,
     "input": [
      "subSet = df[['BGN_DATE','PROPDMG','CROPDMG','EVTYPE','INJURIES','FATALITIES']]"
     ],
     "language": "python",
     "metadata": {},
     "outputs": [],
     "prompt_number": 5
    },
    {
     "cell_type": "code",
     "collapsed": false,
     "input": [
      "subSet"
     ],
     "language": "python",
     "metadata": {},
     "outputs": [
      {
       "html": [
        "<pre>\n",
        "&lt;class 'pandas.core.frame.DataFrame'&gt;\n",
        "Int64Index: 902297 entries, 0 to 902296\n",
        "Data columns (total 6 columns):\n",
        "BGN_DATE      902297  non-null values\n",
        "PROPDMG       902297  non-null values\n",
        "CROPDMG       902297  non-null values\n",
        "EVTYPE        902297  non-null values\n",
        "INJURIES      902297  non-null values\n",
        "FATALITIES    902297  non-null values\n",
        "dtypes: float64(4), object(2)\n",
        "</pre>"
       ],
       "metadata": {},
       "output_type": "pyout",
       "prompt_number": 6,
       "text": [
        "<class 'pandas.core.frame.DataFrame'>\n",
        "Int64Index: 902297 entries, 0 to 902296\n",
        "Data columns (total 6 columns):\n",
        "BGN_DATE      902297  non-null values\n",
        "PROPDMG       902297  non-null values\n",
        "CROPDMG       902297  non-null values\n",
        "EVTYPE        902297  non-null values\n",
        "INJURIES      902297  non-null values\n",
        "FATALITIES    902297  non-null values\n",
        "dtypes: float64(4), object(2)"
       ]
      }
     ],
     "prompt_number": 6
    },
    {
     "cell_type": "code",
     "collapsed": false,
     "input": [
      "#Verificando o dataframe"
     ],
     "language": "python",
     "metadata": {},
     "outputs": [],
     "prompt_number": 7
    },
    {
     "cell_type": "code",
     "collapsed": false,
     "input": [
      "subSet.head()"
     ],
     "language": "python",
     "metadata": {},
     "outputs": [
      {
       "html": [
        "<div style=\"max-height:1000px;max-width:1500px;overflow:auto;\">\n",
        "<table border=\"1\" class=\"dataframe\">\n",
        "  <thead>\n",
        "    <tr style=\"text-align: right;\">\n",
        "      <th></th>\n",
        "      <th>BGN_DATE</th>\n",
        "      <th>PROPDMG</th>\n",
        "      <th>CROPDMG</th>\n",
        "      <th>EVTYPE</th>\n",
        "      <th>INJURIES</th>\n",
        "      <th>FATALITIES</th>\n",
        "    </tr>\n",
        "  </thead>\n",
        "  <tbody>\n",
        "    <tr>\n",
        "      <th>0</th>\n",
        "      <td>  4/18/1950 0:00:00</td>\n",
        "      <td> 25.0</td>\n",
        "      <td> 0</td>\n",
        "      <td> TORNADO</td>\n",
        "      <td> 15</td>\n",
        "      <td> 0</td>\n",
        "    </tr>\n",
        "    <tr>\n",
        "      <th>1</th>\n",
        "      <td>  4/18/1950 0:00:00</td>\n",
        "      <td>  2.5</td>\n",
        "      <td> 0</td>\n",
        "      <td> TORNADO</td>\n",
        "      <td>  0</td>\n",
        "      <td> 0</td>\n",
        "    </tr>\n",
        "    <tr>\n",
        "      <th>2</th>\n",
        "      <td>  2/20/1951 0:00:00</td>\n",
        "      <td> 25.0</td>\n",
        "      <td> 0</td>\n",
        "      <td> TORNADO</td>\n",
        "      <td>  2</td>\n",
        "      <td> 0</td>\n",
        "    </tr>\n",
        "    <tr>\n",
        "      <th>3</th>\n",
        "      <td>   6/8/1951 0:00:00</td>\n",
        "      <td>  2.5</td>\n",
        "      <td> 0</td>\n",
        "      <td> TORNADO</td>\n",
        "      <td>  2</td>\n",
        "      <td> 0</td>\n",
        "    </tr>\n",
        "    <tr>\n",
        "      <th>4</th>\n",
        "      <td> 11/15/1951 0:00:00</td>\n",
        "      <td>  2.5</td>\n",
        "      <td> 0</td>\n",
        "      <td> TORNADO</td>\n",
        "      <td>  2</td>\n",
        "      <td> 0</td>\n",
        "    </tr>\n",
        "  </tbody>\n",
        "</table>\n",
        "</div>"
       ],
       "metadata": {},
       "output_type": "pyout",
       "prompt_number": 8,
       "text": [
        "             BGN_DATE  PROPDMG  CROPDMG   EVTYPE  INJURIES  FATALITIES\n",
        "0   4/18/1950 0:00:00     25.0        0  TORNADO        15           0\n",
        "1   4/18/1950 0:00:00      2.5        0  TORNADO         0           0\n",
        "2   2/20/1951 0:00:00     25.0        0  TORNADO         2           0\n",
        "3    6/8/1951 0:00:00      2.5        0  TORNADO         2           0\n",
        "4  11/15/1951 0:00:00      2.5        0  TORNADO         2           0"
       ]
      }
     ],
     "prompt_number": 8
    },
    {
     "cell_type": "code",
     "collapsed": false,
     "input": [
      "#Inserindo nova vari\u00e1vel"
     ],
     "language": "python",
     "metadata": {},
     "outputs": [],
     "prompt_number": 9
    },
    {
     "cell_type": "code",
     "collapsed": false,
     "input": [
      "subSet['ECONOMICDMG'] = subSet['PROPDMG'] + subSet['CROPDMG']"
     ],
     "language": "python",
     "metadata": {},
     "outputs": [],
     "prompt_number": 10
    },
    {
     "cell_type": "code",
     "collapsed": false,
     "input": [
      "subSet.head()"
     ],
     "language": "python",
     "metadata": {},
     "outputs": [
      {
       "html": [
        "<div style=\"max-height:1000px;max-width:1500px;overflow:auto;\">\n",
        "<table border=\"1\" class=\"dataframe\">\n",
        "  <thead>\n",
        "    <tr style=\"text-align: right;\">\n",
        "      <th></th>\n",
        "      <th>BGN_DATE</th>\n",
        "      <th>PROPDMG</th>\n",
        "      <th>CROPDMG</th>\n",
        "      <th>EVTYPE</th>\n",
        "      <th>INJURIES</th>\n",
        "      <th>FATALITIES</th>\n",
        "      <th>ECONOMICDMG</th>\n",
        "    </tr>\n",
        "  </thead>\n",
        "  <tbody>\n",
        "    <tr>\n",
        "      <th>0</th>\n",
        "      <td>  4/18/1950 0:00:00</td>\n",
        "      <td> 25.0</td>\n",
        "      <td> 0</td>\n",
        "      <td> TORNADO</td>\n",
        "      <td> 15</td>\n",
        "      <td> 0</td>\n",
        "      <td> 25.0</td>\n",
        "    </tr>\n",
        "    <tr>\n",
        "      <th>1</th>\n",
        "      <td>  4/18/1950 0:00:00</td>\n",
        "      <td>  2.5</td>\n",
        "      <td> 0</td>\n",
        "      <td> TORNADO</td>\n",
        "      <td>  0</td>\n",
        "      <td> 0</td>\n",
        "      <td>  2.5</td>\n",
        "    </tr>\n",
        "    <tr>\n",
        "      <th>2</th>\n",
        "      <td>  2/20/1951 0:00:00</td>\n",
        "      <td> 25.0</td>\n",
        "      <td> 0</td>\n",
        "      <td> TORNADO</td>\n",
        "      <td>  2</td>\n",
        "      <td> 0</td>\n",
        "      <td> 25.0</td>\n",
        "    </tr>\n",
        "    <tr>\n",
        "      <th>3</th>\n",
        "      <td>   6/8/1951 0:00:00</td>\n",
        "      <td>  2.5</td>\n",
        "      <td> 0</td>\n",
        "      <td> TORNADO</td>\n",
        "      <td>  2</td>\n",
        "      <td> 0</td>\n",
        "      <td>  2.5</td>\n",
        "    </tr>\n",
        "    <tr>\n",
        "      <th>4</th>\n",
        "      <td> 11/15/1951 0:00:00</td>\n",
        "      <td>  2.5</td>\n",
        "      <td> 0</td>\n",
        "      <td> TORNADO</td>\n",
        "      <td>  2</td>\n",
        "      <td> 0</td>\n",
        "      <td>  2.5</td>\n",
        "    </tr>\n",
        "  </tbody>\n",
        "</table>\n",
        "</div>"
       ],
       "metadata": {},
       "output_type": "pyout",
       "prompt_number": 11,
       "text": [
        "             BGN_DATE  PROPDMG  CROPDMG   EVTYPE  INJURIES  FATALITIES  \\\n",
        "0   4/18/1950 0:00:00     25.0        0  TORNADO        15           0   \n",
        "1   4/18/1950 0:00:00      2.5        0  TORNADO         0           0   \n",
        "2   2/20/1951 0:00:00     25.0        0  TORNADO         2           0   \n",
        "3    6/8/1951 0:00:00      2.5        0  TORNADO         2           0   \n",
        "4  11/15/1951 0:00:00      2.5        0  TORNADO         2           0   \n",
        "\n",
        "   ECONOMICDMG  \n",
        "0         25.0  \n",
        "1          2.5  \n",
        "2         25.0  \n",
        "3          2.5  \n",
        "4          2.5  "
       ]
      }
     ],
     "prompt_number": 11
    },
    {
     "cell_type": "code",
     "collapsed": false,
     "input": [
      "#Vamos criar outro dataframe, agregando as informa\u00e7\u00f5es por ano"
     ],
     "language": "python",
     "metadata": {},
     "outputs": [],
     "prompt_number": 12
    },
    {
     "cell_type": "code",
     "collapsed": false,
     "input": [
      "import datetime\n",
      "#Vamos manipular datas e converter BGN_DATE do formato string para o formato datetime"
     ],
     "language": "python",
     "metadata": {},
     "outputs": [],
     "prompt_number": 13
    },
    {
     "cell_type": "code",
     "collapsed": false,
     "input": [
      "subSet['BGN_DATE'] = pd.to_datetime(subSet['BGN_DATE'])"
     ],
     "language": "python",
     "metadata": {},
     "outputs": [],
     "prompt_number": 14
    },
    {
     "cell_type": "code",
     "collapsed": false,
     "input": [
      "subSet.head(5)"
     ],
     "language": "python",
     "metadata": {},
     "outputs": [
      {
       "html": [
        "<div style=\"max-height:1000px;max-width:1500px;overflow:auto;\">\n",
        "<table border=\"1\" class=\"dataframe\">\n",
        "  <thead>\n",
        "    <tr style=\"text-align: right;\">\n",
        "      <th></th>\n",
        "      <th>BGN_DATE</th>\n",
        "      <th>PROPDMG</th>\n",
        "      <th>CROPDMG</th>\n",
        "      <th>EVTYPE</th>\n",
        "      <th>INJURIES</th>\n",
        "      <th>FATALITIES</th>\n",
        "      <th>ECONOMICDMG</th>\n",
        "    </tr>\n",
        "  </thead>\n",
        "  <tbody>\n",
        "    <tr>\n",
        "      <th>0</th>\n",
        "      <td>1950-04-18 00:00:00</td>\n",
        "      <td> 25.0</td>\n",
        "      <td> 0</td>\n",
        "      <td> TORNADO</td>\n",
        "      <td> 15</td>\n",
        "      <td> 0</td>\n",
        "      <td> 25.0</td>\n",
        "    </tr>\n",
        "    <tr>\n",
        "      <th>1</th>\n",
        "      <td>1950-04-18 00:00:00</td>\n",
        "      <td>  2.5</td>\n",
        "      <td> 0</td>\n",
        "      <td> TORNADO</td>\n",
        "      <td>  0</td>\n",
        "      <td> 0</td>\n",
        "      <td>  2.5</td>\n",
        "    </tr>\n",
        "    <tr>\n",
        "      <th>2</th>\n",
        "      <td>1951-02-20 00:00:00</td>\n",
        "      <td> 25.0</td>\n",
        "      <td> 0</td>\n",
        "      <td> TORNADO</td>\n",
        "      <td>  2</td>\n",
        "      <td> 0</td>\n",
        "      <td> 25.0</td>\n",
        "    </tr>\n",
        "    <tr>\n",
        "      <th>3</th>\n",
        "      <td>1951-06-08 00:00:00</td>\n",
        "      <td>  2.5</td>\n",
        "      <td> 0</td>\n",
        "      <td> TORNADO</td>\n",
        "      <td>  2</td>\n",
        "      <td> 0</td>\n",
        "      <td>  2.5</td>\n",
        "    </tr>\n",
        "    <tr>\n",
        "      <th>4</th>\n",
        "      <td>1951-11-15 00:00:00</td>\n",
        "      <td>  2.5</td>\n",
        "      <td> 0</td>\n",
        "      <td> TORNADO</td>\n",
        "      <td>  2</td>\n",
        "      <td> 0</td>\n",
        "      <td>  2.5</td>\n",
        "    </tr>\n",
        "  </tbody>\n",
        "</table>\n",
        "</div>"
       ],
       "metadata": {},
       "output_type": "pyout",
       "prompt_number": 15,
       "text": [
        "             BGN_DATE  PROPDMG  CROPDMG   EVTYPE  INJURIES  FATALITIES  \\\n",
        "0 1950-04-18 00:00:00     25.0        0  TORNADO        15           0   \n",
        "1 1950-04-18 00:00:00      2.5        0  TORNADO         0           0   \n",
        "2 1951-02-20 00:00:00     25.0        0  TORNADO         2           0   \n",
        "3 1951-06-08 00:00:00      2.5        0  TORNADO         2           0   \n",
        "4 1951-11-15 00:00:00      2.5        0  TORNADO         2           0   \n",
        "\n",
        "   ECONOMICDMG  \n",
        "0         25.0  \n",
        "1          2.5  \n",
        "2         25.0  \n",
        "3          2.5  \n",
        "4          2.5  "
       ]
      }
     ],
     "prompt_number": 15
    },
    {
     "cell_type": "code",
     "collapsed": false,
     "input": [
      "#Agrupamento das data por ano"
     ],
     "language": "python",
     "metadata": {},
     "outputs": [],
     "prompt_number": 16
    },
    {
     "cell_type": "code",
     "collapsed": false,
     "input": [
      "subSet['BGN_DATE'] = subSet.BGN_DATE.apply(datetime.date.strftime, args=('%Y',))"
     ],
     "language": "python",
     "metadata": {},
     "outputs": [],
     "prompt_number": 17
    },
    {
     "cell_type": "code",
     "collapsed": false,
     "input": [
      "subSet.head(5)"
     ],
     "language": "python",
     "metadata": {},
     "outputs": [
      {
       "html": [
        "<div style=\"max-height:1000px;max-width:1500px;overflow:auto;\">\n",
        "<table border=\"1\" class=\"dataframe\">\n",
        "  <thead>\n",
        "    <tr style=\"text-align: right;\">\n",
        "      <th></th>\n",
        "      <th>BGN_DATE</th>\n",
        "      <th>PROPDMG</th>\n",
        "      <th>CROPDMG</th>\n",
        "      <th>EVTYPE</th>\n",
        "      <th>INJURIES</th>\n",
        "      <th>FATALITIES</th>\n",
        "      <th>ECONOMICDMG</th>\n",
        "    </tr>\n",
        "  </thead>\n",
        "  <tbody>\n",
        "    <tr>\n",
        "      <th>0</th>\n",
        "      <td> 1950</td>\n",
        "      <td> 25.0</td>\n",
        "      <td> 0</td>\n",
        "      <td> TORNADO</td>\n",
        "      <td> 15</td>\n",
        "      <td> 0</td>\n",
        "      <td> 25.0</td>\n",
        "    </tr>\n",
        "    <tr>\n",
        "      <th>1</th>\n",
        "      <td> 1950</td>\n",
        "      <td>  2.5</td>\n",
        "      <td> 0</td>\n",
        "      <td> TORNADO</td>\n",
        "      <td>  0</td>\n",
        "      <td> 0</td>\n",
        "      <td>  2.5</td>\n",
        "    </tr>\n",
        "    <tr>\n",
        "      <th>2</th>\n",
        "      <td> 1951</td>\n",
        "      <td> 25.0</td>\n",
        "      <td> 0</td>\n",
        "      <td> TORNADO</td>\n",
        "      <td>  2</td>\n",
        "      <td> 0</td>\n",
        "      <td> 25.0</td>\n",
        "    </tr>\n",
        "    <tr>\n",
        "      <th>3</th>\n",
        "      <td> 1951</td>\n",
        "      <td>  2.5</td>\n",
        "      <td> 0</td>\n",
        "      <td> TORNADO</td>\n",
        "      <td>  2</td>\n",
        "      <td> 0</td>\n",
        "      <td>  2.5</td>\n",
        "    </tr>\n",
        "    <tr>\n",
        "      <th>4</th>\n",
        "      <td> 1951</td>\n",
        "      <td>  2.5</td>\n",
        "      <td> 0</td>\n",
        "      <td> TORNADO</td>\n",
        "      <td>  2</td>\n",
        "      <td> 0</td>\n",
        "      <td>  2.5</td>\n",
        "    </tr>\n",
        "  </tbody>\n",
        "</table>\n",
        "</div>"
       ],
       "metadata": {},
       "output_type": "pyout",
       "prompt_number": 18,
       "text": [
        "  BGN_DATE  PROPDMG  CROPDMG   EVTYPE  INJURIES  FATALITIES  ECONOMICDMG\n",
        "0     1950     25.0        0  TORNADO        15           0         25.0\n",
        "1     1950      2.5        0  TORNADO         0           0          2.5\n",
        "2     1951     25.0        0  TORNADO         2           0         25.0\n",
        "3     1951      2.5        0  TORNADO         2           0          2.5\n",
        "4     1951      2.5        0  TORNADO         2           0          2.5"
       ]
      }
     ],
     "prompt_number": 18
    },
    {
     "cell_type": "markdown",
     "metadata": {},
     "source": [
      "Importamos agora a biblioteca numpy para os c\u00e1lculos de m\u00e9dia, soma e desvio padr\u00e3o\n"
     ]
    },
    {
     "cell_type": "code",
     "collapsed": false,
     "input": [
      "import numpy as np"
     ],
     "language": "python",
     "metadata": {},
     "outputs": [],
     "prompt_number": 19
    },
    {
     "cell_type": "markdown",
     "metadata": {},
     "source": [
      "Agrupamos os dados em uma vari\u00e1vel auxiliar (para preservar o dataframe original) - \n",
      "Dados agrupados por ano e tipo de evento"
     ]
    },
    {
     "cell_type": "code",
     "collapsed": false,
     "input": [
      "aux =subSet[['BGN_DATE','EVTYPE','INJURIES','FATALITIES','ECONOMICDMG']].groupby(['BGN_DATE','EVTYPE'])"
     ],
     "language": "python",
     "metadata": {},
     "outputs": [],
     "prompt_number": 20
    },
    {
     "cell_type": "markdown",
     "metadata": {},
     "source": [
      "Sele\u00e7\u00e3o dos atributos utilizados para an\u00e1lise com os repectivos valores de m\u00e9dia, desvio e soma"
     ]
    },
    {
     "cell_type": "code",
     "collapsed": false,
     "input": [
      "aux = aux[['INJURIES','FATALITIES','ECONOMICDMG']].agg([np.mean, np.std, np.sum])"
     ],
     "language": "python",
     "metadata": {},
     "outputs": [],
     "prompt_number": 21
    },
    {
     "cell_type": "markdown",
     "metadata": {},
     "source": [
      "Exemplo da estrutura agregada"
     ]
    },
    {
     "cell_type": "code",
     "collapsed": false,
     "input": [
      "aux['FATALITIES']['sum']"
     ],
     "language": "python",
     "metadata": {},
     "outputs": [
      {
       "metadata": {},
       "output_type": "pyout",
       "prompt_number": 22,
       "text": [
        "BGN_DATE  EVTYPE   \n",
        "1950      TORNADO       70\n",
        "1951      TORNADO       34\n",
        "1952      TORNADO      230\n",
        "1953      TORNADO      519\n",
        "1954      TORNADO       36\n",
        "1955      HAIL           0\n",
        "          TORNADO      129\n",
        "          TSTM WIND      0\n",
        "1956      HAIL           0\n",
        "          TORNADO       83\n",
        "          TSTM WIND      0\n",
        "1957      HAIL           0\n",
        "          TORNADO      193\n",
        "          TSTM WIND      0\n",
        "1958      HAIL           0\n",
        "...\n",
        "2011      MARINE STRONG WIND            2\n",
        "          MARINE THUNDERSTORM WIND      3\n",
        "          RIP CURRENT                  29\n",
        "          SEICHE                        0\n",
        "          SLEET                         0\n",
        "          STORM SURGE/TIDE              0\n",
        "          STRONG WIND                  10\n",
        "          THUNDERSTORM WIND            54\n",
        "          TORNADO                     587\n",
        "          TROPICAL STORM                4\n",
        "          TSUNAMI                       1\n",
        "          WATERSPOUT                    0\n",
        "          WILDFIRE                      6\n",
        "          WINTER STORM                  1\n",
        "          WINTER WEATHER                2\n",
        "Name: sum, Length: 2326, dtype: float64"
       ]
      }
     ],
     "prompt_number": 22
    },
    {
     "cell_type": "markdown",
     "metadata": {},
     "source": [
      " "
     ]
    },
    {
     "cell_type": "markdown",
     "metadata": {},
     "source": [
      "Agora, agregamos os novos dados \u00e0 vari\u00e1vel eventYear e fazemos a concatena\u00e7\u00e3o de cada atributo\n",
      "Renomeamos a coluna 'sum' para o respetivo nome da ocorr\u00eancia"
     ]
    },
    {
     "cell_type": "code",
     "collapsed": false,
     "input": [
      "eventYear  = pd.DataFrame(aux['FATALITIES']['sum']).rename(columns={'sum': 'FATALITIES'}, inplace=False)"
     ],
     "language": "python",
     "metadata": {},
     "outputs": [],
     "prompt_number": 48
    },
    {
     "cell_type": "code",
     "collapsed": false,
     "input": [
      "eventYear['INJURIES'] = aux['INJURIES']['sum']"
     ],
     "language": "python",
     "metadata": {},
     "outputs": [],
     "prompt_number": 50
    },
    {
     "cell_type": "code",
     "collapsed": false,
     "input": [
      "eventYear['ECONOMICDMG'] = aux['ECONOMICDMG']['sum']"
     ],
     "language": "python",
     "metadata": {},
     "outputs": [],
     "prompt_number": 51
    },
    {
     "cell_type": "markdown",
     "metadata": {},
     "source": [
      "Dados agregados por ano e tipo de evento, associado a cada ocorr\u00eancia."
     ]
    },
    {
     "cell_type": "code",
     "collapsed": false,
     "input": [
      "eventYear.head()"
     ],
     "language": "python",
     "metadata": {},
     "outputs": [
      {
       "html": [
        "<div style=\"max-height:1000px;max-width:1500px;overflow:auto;\">\n",
        "<table border=\"1\" class=\"dataframe\">\n",
        "  <thead>\n",
        "    <tr style=\"text-align: right;\">\n",
        "      <th></th>\n",
        "      <th></th>\n",
        "      <th>FATALITIES</th>\n",
        "      <th>INJURIES</th>\n",
        "      <th>ECONOMICDMG</th>\n",
        "    </tr>\n",
        "    <tr>\n",
        "      <th>BGN_DATE</th>\n",
        "      <th>EVTYPE</th>\n",
        "      <th></th>\n",
        "      <th></th>\n",
        "      <th></th>\n",
        "    </tr>\n",
        "  </thead>\n",
        "  <tbody>\n",
        "    <tr>\n",
        "      <th>1950</th>\n",
        "      <th>TORNADO</th>\n",
        "      <td>  70</td>\n",
        "      <td>  659</td>\n",
        "      <td> 16999.15</td>\n",
        "    </tr>\n",
        "    <tr>\n",
        "      <th>1951</th>\n",
        "      <th>TORNADO</th>\n",
        "      <td>  34</td>\n",
        "      <td>  524</td>\n",
        "      <td> 10560.99</td>\n",
        "    </tr>\n",
        "    <tr>\n",
        "      <th>1952</th>\n",
        "      <th>TORNADO</th>\n",
        "      <td> 230</td>\n",
        "      <td> 1915</td>\n",
        "      <td> 16679.74</td>\n",
        "    </tr>\n",
        "    <tr>\n",
        "      <th>1953</th>\n",
        "      <th>TORNADO</th>\n",
        "      <td> 519</td>\n",
        "      <td> 5131</td>\n",
        "      <td> 19182.20</td>\n",
        "    </tr>\n",
        "    <tr>\n",
        "      <th>1954</th>\n",
        "      <th>TORNADO</th>\n",
        "      <td>  36</td>\n",
        "      <td>  715</td>\n",
        "      <td> 23367.82</td>\n",
        "    </tr>\n",
        "  </tbody>\n",
        "</table>\n",
        "</div>"
       ],
       "metadata": {},
       "output_type": "pyout",
       "prompt_number": 52,
       "text": [
        "                  FATALITIES  INJURIES  ECONOMICDMG\n",
        "BGN_DATE EVTYPE                                    \n",
        "1950     TORNADO          70       659     16999.15\n",
        "1951     TORNADO          34       524     10560.99\n",
        "1952     TORNADO         230      1915     16679.74\n",
        "1953     TORNADO         519      5131     19182.20\n",
        "1954     TORNADO          36       715     23367.82"
       ]
      }
     ],
     "prompt_number": 52
    },
    {
     "cell_type": "code",
     "collapsed": false,
     "input": [
      "type(eventYear)"
     ],
     "language": "python",
     "metadata": {},
     "outputs": [
      {
       "metadata": {},
       "output_type": "pyout",
       "prompt_number": 53,
       "text": [
        "pandas.core.frame.DataFrame"
       ]
      }
     ],
     "prompt_number": 53
    },
    {
     "cell_type": "code",
     "collapsed": false,
     "input": [
      "for cada in eventYear:\n",
      "    print cada"
     ],
     "language": "python",
     "metadata": {},
     "outputs": [
      {
       "output_type": "stream",
       "stream": "stdout",
       "text": [
        "FATALITIES\n",
        "INJURIES\n",
        "ECONOMICDMG\n"
       ]
      }
     ],
     "prompt_number": 54
    },
    {
     "cell_type": "code",
     "collapsed": false,
     "input": [
      "eventYear[['FATALITIES']].sum()"
     ],
     "language": "python",
     "metadata": {},
     "outputs": [
      {
       "metadata": {},
       "output_type": "pyout",
       "prompt_number": 76,
       "text": [
        "FATALITIES    15145\n",
        "dtype: float64"
       ]
      }
     ],
     "prompt_number": 76
    },
    {
     "cell_type": "code",
     "collapsed": false,
     "input": [],
     "language": "python",
     "metadata": {},
     "outputs": []
    }
   ],
   "metadata": {}
  }
 ]
}